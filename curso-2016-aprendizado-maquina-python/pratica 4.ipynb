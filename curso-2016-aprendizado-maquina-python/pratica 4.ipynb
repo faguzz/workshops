{
 "cells": [
  {
   "cell_type": "code",
   "execution_count": 1,
   "metadata": {
    "collapsed": true
   },
   "outputs": [],
   "source": [
    "import csv\n",
    "import numpy as np\n",
    "\n",
    "def load_iris():\n",
    "    fh = open(\"data/iris.data\", 'r')\n",
    "    csv_fh = csv.reader(fh)\n",
    "    \n",
    "    header = csv_fh.next()\n",
    "    data = []\n",
    "    for row in csv_fh:\n",
    "        data.append(row)\n",
    "    \n",
    "    data = np.array(data)\n",
    "        \n",
    "    X = data[:, 0:4].astype(np.float)\n",
    "    y = data[:, -1]\n",
    "    \n",
    "    d = {'Iris-setosa': 0, 'Iris-versicolor': 1, 'Iris-virginica': 2}\n",
    "    \n",
    "    y2 = np.array( map(lambda x: d[x], y) )\n",
    "    \n",
    "    return(X, y2, header)"
   ]
  },
  {
   "cell_type": "code",
   "execution_count": 2,
   "metadata": {
    "collapsed": true
   },
   "outputs": [],
   "source": [
    "X, y, header = load_iris()"
   ]
  },
  {
   "cell_type": "code",
   "execution_count": 3,
   "metadata": {
    "collapsed": true
   },
   "outputs": [],
   "source": [
    "from sklearn.model_selection import train_test_split\n",
    "\n",
    "X_train, X_test, y_train, y_test = train_test_split(X, y, test_size=0.3,\n",
    "                                                    random_state=0)"
   ]
  },
  {
   "cell_type": "code",
   "execution_count": 4,
   "metadata": {
    "collapsed": false
   },
   "outputs": [
    {
     "name": "stdout",
     "output_type": "stream",
     "text": [
      "(0, 1)\n",
      "0.666666666667\n",
      "(0, 2)\n",
      "0.911111111111\n",
      "(0, 3)\n",
      "0.977777777778\n",
      "(1, 2)\n",
      "0.911111111111\n",
      "(1, 3)\n",
      "0.977777777778\n",
      "(2, 3)\n",
      "0.977777777778\n"
     ]
    }
   ],
   "source": [
    "import itertools\n",
    "from sklearn.tree import DecisionTreeClassifier\n",
    "\n",
    "for dim in itertools.combinations([0, 1, 2, 3], 2):\n",
    "    A_train = X_train[:, dim]\n",
    "    A_test  = X_test[:, dim]\n",
    "    \n",
    "    clf = DecisionTreeClassifier(random_state=0, max_depth=3)\n",
    "    clf = clf.fit(A_train, y_train)\n",
    "    \n",
    "    print(dim)\n",
    "    print(clf.score(A_test, y_test))"
   ]
  }
 ],
 "metadata": {
  "kernelspec": {
   "display_name": "Python 2",
   "language": "python",
   "name": "python2"
  },
  "language_info": {
   "codemirror_mode": {
    "name": "ipython",
    "version": 2
   },
   "file_extension": ".py",
   "mimetype": "text/x-python",
   "name": "python",
   "nbconvert_exporter": "python",
   "pygments_lexer": "ipython2",
   "version": "2.7.12"
  }
 },
 "nbformat": 4,
 "nbformat_minor": 2
}
