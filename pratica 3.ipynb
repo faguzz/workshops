{
 "cells": [
  {
   "cell_type": "code",
   "execution_count": 1,
   "metadata": {
    "collapsed": true
   },
   "outputs": [],
   "source": [
    "import csv\n",
    "import numpy as np\n",
    "\n",
    "def load_iris():\n",
    "    fh = open(\"data/iris.data\", 'r')\n",
    "    csv_fh = csv.reader(fh)\n",
    "    \n",
    "    header = csv_fh.next()\n",
    "    data = []\n",
    "    for row in csv_fh:\n",
    "        data.append(row)\n",
    "    \n",
    "    data = np.array(data)\n",
    "        \n",
    "    X = data[:, 0:4].astype(np.float)\n",
    "    y = data[:, -1]\n",
    "    \n",
    "    d = {'Iris-setosa': 0, 'Iris-versicolor': 1, 'Iris-virginica': 2}\n",
    "    \n",
    "    y2 = np.array( map(lambda x: d[x], y) )\n",
    "    \n",
    "    return(X, y2, header)"
   ]
  },
  {
   "cell_type": "code",
   "execution_count": 2,
   "metadata": {
    "collapsed": true
   },
   "outputs": [],
   "source": [
    "X, y, header = load_iris()"
   ]
  },
  {
   "cell_type": "code",
   "execution_count": 3,
   "metadata": {
    "collapsed": true
   },
   "outputs": [],
   "source": [
    "dims = [2, 3]\n",
    "A = X[:, dims]"
   ]
  },
  {
   "cell_type": "code",
   "execution_count": 4,
   "metadata": {
    "collapsed": false
   },
   "outputs": [],
   "source": [
    "indices = range(150)\n",
    "\n",
    "np.random.seed(seed=0)\n",
    "np.random.shuffle(indices)\n",
    "\n",
    "train_indices = indices[:120]\n",
    "test_indices = indices[120:]\n",
    "\n",
    "X_train = A[train_indices]\n",
    "y_train = y[train_indices]\n",
    "\n",
    "X_test = A[test_indices]\n",
    "y_test = y[test_indices]"
   ]
  },
  {
   "cell_type": "code",
   "execution_count": 5,
   "metadata": {
    "collapsed": true
   },
   "outputs": [],
   "source": [
    "from sklearn.tree import DecisionTreeClassifier\n",
    "\n",
    "clf = DecisionTreeClassifier(random_state=0)\n",
    "\n",
    "clf = clf.fit(X_train, y_train)"
   ]
  },
  {
   "cell_type": "code",
   "execution_count": 6,
   "metadata": {
    "collapsed": false
   },
   "outputs": [
    {
     "data": {
      "text/plain": [
       "array([0, 2, 0, 0, 2, 0, 2, 1, 1, 1, 2, 2, 1, 2, 0, 1, 2, 2, 0, 1, 1, 2, 1,\n",
       "       0, 0, 0, 2, 1, 2, 0])"
      ]
     },
     "execution_count": 6,
     "metadata": {},
     "output_type": "execute_result"
    }
   ],
   "source": [
    "clf.predict(X_test)"
   ]
  },
  {
   "cell_type": "code",
   "execution_count": 7,
   "metadata": {
    "collapsed": false
   },
   "outputs": [
    {
     "data": {
      "text/plain": [
       "array([0, 2, 0, 0, 2, 0, 2, 1, 1, 1, 2, 2, 1, 1, 0, 1, 2, 2, 0, 1, 1, 1, 1,\n",
       "       0, 0, 0, 2, 1, 2, 0])"
      ]
     },
     "execution_count": 7,
     "metadata": {},
     "output_type": "execute_result"
    }
   ],
   "source": [
    "y_test"
   ]
  },
  {
   "cell_type": "code",
   "execution_count": 8,
   "metadata": {
    "collapsed": false
   },
   "outputs": [
    {
     "data": {
      "text/plain": [
       "0.93333333333333335"
      ]
     },
     "execution_count": 8,
     "metadata": {},
     "output_type": "execute_result"
    }
   ],
   "source": [
    "clf.score(X_test, y_test)"
   ]
  },
  {
   "cell_type": "code",
   "execution_count": 9,
   "metadata": {
    "collapsed": false
   },
   "outputs": [
    {
     "data": {
      "image/png": "[encoded data removed]",
      "text/plain": [
       "<matplotlib.figure.Figure at 0x7f83d5280550>"
      ]
     },
     "metadata": {},
     "output_type": "display_data"
    }
   ],
   "source": [
    "from plot_decision_boundary import plot_decision_boundary\n",
    "import matplotlib.pyplot as plt\n",
    "\n",
    "plot_decision_boundary(X_train, y_train, header, dims,\n",
    "                      ['setosa', 'versicolor', 'virginica'],\n",
    "                      clf)\n",
    "\n",
    "plt.show()"
   ]
  },
  {
   "cell_type": "code",
   "execution_count": 10,
   "metadata": {
    "collapsed": false
   },
   "outputs": [
    {
     "name": "stdout",
     "output_type": "stream",
     "text": [
      "0.633333333333\n",
      "0.933333333333\n",
      "0.933333333333\n",
      "0.933333333333\n"
     ]
    },
    {
     "data": {
      "image/png": "[encoded data removed]",
      "text/plain": [
       "<matplotlib.figure.Figure at 0x7f83d5b58610>"
      ]
     },
     "metadata": {},
     "output_type": "display_data"
    }
   ],
   "source": [
    "classifiers = [\n",
    "    DecisionTreeClassifier(random_state=0, max_depth=1),\n",
    "    DecisionTreeClassifier(random_state=0, max_depth=2),\n",
    "    DecisionTreeClassifier(random_state=0, max_depth=3),\n",
    "    DecisionTreeClassifier(random_state=0, max_depth=4)\n",
    "]\n",
    "\n",
    "for i, clf in enumerate(classifiers):\n",
    "    clf = clf.fit(X_train, y_train)\n",
    "    print(clf.score(X_test, y_test))\n",
    "    plt.subplot(2, 2, i + 1)\n",
    "    plot_decision_boundary(X_train, y_train, header, dims,\n",
    "                      ['setosa', 'versicolor', 'virginica'],\n",
    "                      clf)\n",
    "\n",
    "plt.show()"
   ]
  }
 ],
 "metadata": {
  "kernelspec": {
   "display_name": "Python 2",
   "language": "python",
   "name": "python2"
  },
  "language_info": {
   "codemirror_mode": {
    "name": "ipython",
    "version": 2
   },
   "file_extension": ".py",
   "mimetype": "text/x-python",
   "name": "python",
   "nbconvert_exporter": "python",
   "pygments_lexer": "ipython2",
   "version": "2.7.12"
  }
 },
 "nbformat": 4,
 "nbformat_minor": 2
}
