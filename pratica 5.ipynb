{
 "cells": [
  {
   "cell_type": "code",
   "execution_count": 1,
   "metadata": {
    "collapsed": true
   },
   "outputs": [],
   "source": [
    "import csv\n",
    "import numpy as np\n",
    "\n",
    "def load_iris():\n",
    "    fh = open(\"data/iris.data\", 'r')\n",
    "    csv_fh = csv.reader(fh)\n",
    "    \n",
    "    header = csv_fh.next()\n",
    "    data = []\n",
    "    for row in csv_fh:\n",
    "        data.append(row)\n",
    "    \n",
    "    data = np.array(data)\n",
    "        \n",
    "    X = data[:, 0:4].astype(np.float)\n",
    "    y = data[:, -1]\n",
    "    \n",
    "    d = {'Iris-setosa': 0, 'Iris-versicolor': 1, 'Iris-virginica': 2}\n",
    "    \n",
    "    y2 = np.array( map(lambda x: d[x], y) )\n",
    "    \n",
    "    return(X, y2, header)"
   ]
  },
  {
   "cell_type": "code",
   "execution_count": 2,
   "metadata": {
    "collapsed": true
   },
   "outputs": [],
   "source": [
    "X, y, header = load_iris()"
   ]
  },
  {
   "cell_type": "code",
   "execution_count": 3,
   "metadata": {
    "collapsed": true
   },
   "outputs": [],
   "source": [
    "from sklearn.model_selection import train_test_split\n",
    "\n",
    "X_train, X_test, y_train, y_test = train_test_split(X, y, test_size=0.5,\n",
    "                                                    random_state=0)"
   ]
  },
  {
   "cell_type": "code",
   "execution_count": 4,
   "metadata": {
    "collapsed": true
   },
   "outputs": [],
   "source": [
    "from sklearn.neighbors import KNeighborsClassifier"
   ]
  },
  {
   "cell_type": "code",
   "execution_count": 5,
   "metadata": {
    "collapsed": false
   },
   "outputs": [
    {
     "name": "stdout",
     "output_type": "stream",
     "text": [
      "0.92\n"
     ]
    }
   ],
   "source": [
    "dims = [2, 3]\n",
    "\n",
    "A_train = X_train[:, dims]\n",
    "A_test = X_test[:, dims]\n",
    "\n",
    "clf = KNeighborsClassifier(n_neighbors=3)\n",
    "\n",
    "clf = clf.fit(A_train, y_train)\n",
    "\n",
    "print( clf.score(A_test, y_test) )"
   ]
  },
  {
   "cell_type": "code",
   "execution_count": 6,
   "metadata": {
    "collapsed": false
   },
   "outputs": [
    {
     "data": {
      "image/png": "[encoded data removed]",
      "text/plain": [
       "<matplotlib.figure.Figure at 0x7f5a98fff9d0>"
      ]
     },
     "metadata": {},
     "output_type": "display_data"
    }
   ],
   "source": [
    "from plot_decision_boundary import plot_decision_boundary\n",
    "import matplotlib.pyplot as plt\n",
    "\n",
    "plot_decision_boundary(A_train, y_train, header, dims,\n",
    "                      ['setosa', 'versicolor', 'virginica'],\n",
    "                      clf)\n",
    "\n",
    "plt.show()"
   ]
  },
  {
   "cell_type": "code",
   "execution_count": 7,
   "metadata": {
    "collapsed": false
   },
   "outputs": [
    {
     "name": "stdout",
     "output_type": "stream",
     "text": [
      "1\n",
      "0.946666666667\n",
      "3\n",
      "0.92\n",
      "5\n",
      "0.96\n",
      "7\n",
      "0.96\n",
      "9\n",
      "0.96\n"
     ]
    }
   ],
   "source": [
    "for k in [1, 3, 5, 7, 9]:\n",
    "    clf = KNeighborsClassifier(n_neighbors=k)\n",
    "    clf = clf.fit(A_train, y_train)\n",
    "    print(k)\n",
    "    print( clf.score(A_test, y_test) )"
   ]
  }
 ],
 "metadata": {
  "kernelspec": {
   "display_name": "Python 2",
   "language": "python",
   "name": "python2"
  },
  "language_info": {
   "codemirror_mode": {
    "name": "ipython",
    "version": 2
   },
   "file_extension": ".py",
   "mimetype": "text/x-python",
   "name": "python",
   "nbconvert_exporter": "python",
   "pygments_lexer": "ipython2",
   "version": "2.7.12"
  }
 },
 "nbformat": 4,
 "nbformat_minor": 2
}
